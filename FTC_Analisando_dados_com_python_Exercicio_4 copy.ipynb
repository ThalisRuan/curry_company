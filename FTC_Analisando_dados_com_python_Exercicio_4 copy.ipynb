{
 "cells": [
  {
   "attachments": {},
   "cell_type": "markdown",
   "id": "98a2a785",
   "metadata": {},
   "source": [
    "# 0.0 IMPORTS"
   ]
  },
  {
   "cell_type": "code",
   "execution_count": 81,
   "id": "d7155113",
   "metadata": {},
   "outputs": [],
   "source": [
    "import pandas as pd \n",
    "import numpy as np \n",
    "import matplotlib as px\n",
    "import seaborn as sns\n",
    "import plotly as plt \n",
    "from sklearn.metrics.pairwise import haversine_distances\n",
    "import math \n",
    "import haversine\n",
    "import pygeodesic"
   ]
  },
  {
   "cell_type": "code",
   "execution_count": 75,
   "id": "a6255f11",
   "metadata": {},
   "outputs": [
    {
     "name": "stdout",
     "output_type": "stream",
     "text": [
      "Collecting pygeodesic\n",
      "  Downloading pygeodesic-0.1.8-cp310-cp310-win_amd64.whl (1.3 MB)\n",
      "     ---------------------------------------- 1.3/1.3 MB 4.7 MB/s eta 0:00:00\n",
      "Requirement already satisfied: numpy in c:\\users\\rozen\\anaconda3\\lib\\site-packages (from pygeodesic) (1.23.5)\n",
      "Installing collected packages: pygeodesic\n",
      "Successfully installed pygeodesic-0.1.8\n"
     ]
    }
   ],
   "source": [
    "!pip install pygeodesic"
   ]
  },
  {
   "attachments": {},
   "cell_type": "markdown",
   "id": "6dd4d5fd",
   "metadata": {},
   "source": [
    "# 0.1 Loading Data"
   ]
  },
  {
   "cell_type": "code",
   "execution_count": 2,
   "id": "aade71dd",
   "metadata": {},
   "outputs": [],
   "source": [
    "df = pd.read_csv('./data/train.crdownload.csv')"
   ]
  },
  {
   "attachments": {},
   "cell_type": "markdown",
   "id": "4b994e30",
   "metadata": {},
   "source": [
    "## 1.0 DATA DESCRIPTIONS"
   ]
  },
  {
   "cell_type": "code",
   "execution_count": 3,
   "id": "75aafacd",
   "metadata": {},
   "outputs": [],
   "source": [
    "df1 = df.copy()"
   ]
  },
  {
   "cell_type": "code",
   "execution_count": 4,
   "id": "b5e45e8a",
   "metadata": {},
   "outputs": [
    {
     "data": {
      "text/html": [
       "<div>\n",
       "<style scoped>\n",
       "    .dataframe tbody tr th:only-of-type {\n",
       "        vertical-align: middle;\n",
       "    }\n",
       "\n",
       "    .dataframe tbody tr th {\n",
       "        vertical-align: top;\n",
       "    }\n",
       "\n",
       "    .dataframe thead th {\n",
       "        text-align: right;\n",
       "    }\n",
       "</style>\n",
       "<table border=\"1\" class=\"dataframe\">\n",
       "  <thead>\n",
       "    <tr style=\"text-align: right;\">\n",
       "      <th></th>\n",
       "      <th>ID</th>\n",
       "      <th>Delivery_person_ID</th>\n",
       "      <th>Delivery_person_Age</th>\n",
       "      <th>Delivery_person_Ratings</th>\n",
       "      <th>Restaurant_latitude</th>\n",
       "      <th>Restaurant_longitude</th>\n",
       "      <th>Delivery_location_latitude</th>\n",
       "      <th>Delivery_location_longitude</th>\n",
       "      <th>Order_Date</th>\n",
       "      <th>Time_Orderd</th>\n",
       "      <th>Time_Order_picked</th>\n",
       "      <th>Weatherconditions</th>\n",
       "      <th>Road_traffic_density</th>\n",
       "      <th>Vehicle_condition</th>\n",
       "      <th>Type_of_order</th>\n",
       "      <th>Type_of_vehicle</th>\n",
       "      <th>multiple_deliveries</th>\n",
       "      <th>Festival</th>\n",
       "      <th>City</th>\n",
       "      <th>Time_taken(min)</th>\n",
       "    </tr>\n",
       "  </thead>\n",
       "  <tbody>\n",
       "    <tr>\n",
       "      <th>0</th>\n",
       "      <td>0x4607</td>\n",
       "      <td>INDORES13DEL02</td>\n",
       "      <td>37</td>\n",
       "      <td>4.9</td>\n",
       "      <td>22.745049</td>\n",
       "      <td>75.892471</td>\n",
       "      <td>22.765049</td>\n",
       "      <td>75.912471</td>\n",
       "      <td>19-03-2022</td>\n",
       "      <td>11:30:00</td>\n",
       "      <td>11:45:00</td>\n",
       "      <td>conditions Sunny</td>\n",
       "      <td>High</td>\n",
       "      <td>2</td>\n",
       "      <td>Snack</td>\n",
       "      <td>motorcycle</td>\n",
       "      <td>0</td>\n",
       "      <td>No</td>\n",
       "      <td>Urban</td>\n",
       "      <td>(min) 24</td>\n",
       "    </tr>\n",
       "    <tr>\n",
       "      <th>1</th>\n",
       "      <td>0xb379</td>\n",
       "      <td>BANGRES18DEL02</td>\n",
       "      <td>34</td>\n",
       "      <td>4.5</td>\n",
       "      <td>12.913041</td>\n",
       "      <td>77.683237</td>\n",
       "      <td>13.043041</td>\n",
       "      <td>77.813237</td>\n",
       "      <td>25-03-2022</td>\n",
       "      <td>19:45:00</td>\n",
       "      <td>19:50:00</td>\n",
       "      <td>conditions Stormy</td>\n",
       "      <td>Jam</td>\n",
       "      <td>2</td>\n",
       "      <td>Snack</td>\n",
       "      <td>scooter</td>\n",
       "      <td>1</td>\n",
       "      <td>No</td>\n",
       "      <td>Metropolitian</td>\n",
       "      <td>(min) 33</td>\n",
       "    </tr>\n",
       "    <tr>\n",
       "      <th>2</th>\n",
       "      <td>0x5d6d</td>\n",
       "      <td>BANGRES19DEL01</td>\n",
       "      <td>23</td>\n",
       "      <td>4.4</td>\n",
       "      <td>12.914264</td>\n",
       "      <td>77.678400</td>\n",
       "      <td>12.924264</td>\n",
       "      <td>77.688400</td>\n",
       "      <td>19-03-2022</td>\n",
       "      <td>08:30:00</td>\n",
       "      <td>08:45:00</td>\n",
       "      <td>conditions Sandstorms</td>\n",
       "      <td>Low</td>\n",
       "      <td>0</td>\n",
       "      <td>Drinks</td>\n",
       "      <td>motorcycle</td>\n",
       "      <td>1</td>\n",
       "      <td>No</td>\n",
       "      <td>Urban</td>\n",
       "      <td>(min) 26</td>\n",
       "    </tr>\n",
       "    <tr>\n",
       "      <th>3</th>\n",
       "      <td>0x7a6a</td>\n",
       "      <td>COIMBRES13DEL02</td>\n",
       "      <td>38</td>\n",
       "      <td>4.7</td>\n",
       "      <td>11.003669</td>\n",
       "      <td>76.976494</td>\n",
       "      <td>11.053669</td>\n",
       "      <td>77.026494</td>\n",
       "      <td>05-04-2022</td>\n",
       "      <td>18:00:00</td>\n",
       "      <td>18:10:00</td>\n",
       "      <td>conditions Sunny</td>\n",
       "      <td>Medium</td>\n",
       "      <td>0</td>\n",
       "      <td>Buffet</td>\n",
       "      <td>motorcycle</td>\n",
       "      <td>1</td>\n",
       "      <td>No</td>\n",
       "      <td>Metropolitian</td>\n",
       "      <td>(min) 21</td>\n",
       "    </tr>\n",
       "    <tr>\n",
       "      <th>4</th>\n",
       "      <td>0x70a2</td>\n",
       "      <td>CHENRES12DEL01</td>\n",
       "      <td>32</td>\n",
       "      <td>4.6</td>\n",
       "      <td>12.972793</td>\n",
       "      <td>80.249982</td>\n",
       "      <td>13.012793</td>\n",
       "      <td>80.289982</td>\n",
       "      <td>26-03-2022</td>\n",
       "      <td>13:30:00</td>\n",
       "      <td>13:45:00</td>\n",
       "      <td>conditions Cloudy</td>\n",
       "      <td>High</td>\n",
       "      <td>1</td>\n",
       "      <td>Snack</td>\n",
       "      <td>scooter</td>\n",
       "      <td>1</td>\n",
       "      <td>No</td>\n",
       "      <td>Metropolitian</td>\n",
       "      <td>(min) 30</td>\n",
       "    </tr>\n",
       "  </tbody>\n",
       "</table>\n",
       "</div>"
      ],
      "text/plain": [
       "        ID Delivery_person_ID Delivery_person_Age Delivery_person_Ratings  \\\n",
       "0  0x4607     INDORES13DEL02                   37                     4.9   \n",
       "1  0xb379     BANGRES18DEL02                   34                     4.5   \n",
       "2  0x5d6d     BANGRES19DEL01                   23                     4.4   \n",
       "3  0x7a6a    COIMBRES13DEL02                   38                     4.7   \n",
       "4  0x70a2     CHENRES12DEL01                   32                     4.6   \n",
       "\n",
       "   Restaurant_latitude  Restaurant_longitude  Delivery_location_latitude  \\\n",
       "0            22.745049             75.892471                   22.765049   \n",
       "1            12.913041             77.683237                   13.043041   \n",
       "2            12.914264             77.678400                   12.924264   \n",
       "3            11.003669             76.976494                   11.053669   \n",
       "4            12.972793             80.249982                   13.012793   \n",
       "\n",
       "   Delivery_location_longitude  Order_Date Time_Orderd Time_Order_picked  \\\n",
       "0                    75.912471  19-03-2022    11:30:00          11:45:00   \n",
       "1                    77.813237  25-03-2022    19:45:00          19:50:00   \n",
       "2                    77.688400  19-03-2022    08:30:00          08:45:00   \n",
       "3                    77.026494  05-04-2022    18:00:00          18:10:00   \n",
       "4                    80.289982  26-03-2022    13:30:00          13:45:00   \n",
       "\n",
       "       Weatherconditions Road_traffic_density  Vehicle_condition  \\\n",
       "0       conditions Sunny                High                   2   \n",
       "1      conditions Stormy                 Jam                   2   \n",
       "2  conditions Sandstorms                 Low                   0   \n",
       "3       conditions Sunny              Medium                   0   \n",
       "4      conditions Cloudy                High                   1   \n",
       "\n",
       "  Type_of_order Type_of_vehicle multiple_deliveries Festival            City  \\\n",
       "0        Snack      motorcycle                    0      No           Urban    \n",
       "1        Snack         scooter                    1      No   Metropolitian    \n",
       "2       Drinks      motorcycle                    1      No           Urban    \n",
       "3       Buffet      motorcycle                    1      No   Metropolitian    \n",
       "4        Snack         scooter                    1      No   Metropolitian    \n",
       "\n",
       "  Time_taken(min)  \n",
       "0        (min) 24  \n",
       "1        (min) 33  \n",
       "2        (min) 26  \n",
       "3        (min) 21  \n",
       "4        (min) 30  "
      ]
     },
     "execution_count": 4,
     "metadata": {},
     "output_type": "execute_result"
    }
   ],
   "source": [
    "df1.head()"
   ]
  },
  {
   "attachments": {},
   "cell_type": "markdown",
   "id": "b45860f9",
   "metadata": {},
   "source": [
    "## 1.1 Data Dimensions"
   ]
  },
  {
   "cell_type": "code",
   "execution_count": 5,
   "id": "303a7361",
   "metadata": {
    "scrolled": true
   },
   "outputs": [
    {
     "name": "stdout",
     "output_type": "stream",
     "text": [
      "Number of Rows 4467\n",
      "Number of Columns 20\n"
     ]
    }
   ],
   "source": [
    "print(f'Number of Rows {df1.shape[0]}')\n",
    "print(f'Number of Columns {df1.shape[1]}')"
   ]
  },
  {
   "attachments": {},
   "cell_type": "markdown",
   "id": "c605dda7",
   "metadata": {},
   "source": [
    "## 1.2 Data Types"
   ]
  },
  {
   "cell_type": "code",
   "execution_count": 6,
   "id": "894e0f38",
   "metadata": {},
   "outputs": [
    {
     "data": {
      "text/html": [
       "<div>\n",
       "<style scoped>\n",
       "    .dataframe tbody tr th:only-of-type {\n",
       "        vertical-align: middle;\n",
       "    }\n",
       "\n",
       "    .dataframe tbody tr th {\n",
       "        vertical-align: top;\n",
       "    }\n",
       "\n",
       "    .dataframe thead th {\n",
       "        text-align: right;\n",
       "    }\n",
       "</style>\n",
       "<table border=\"1\" class=\"dataframe\">\n",
       "  <thead>\n",
       "    <tr style=\"text-align: right;\">\n",
       "      <th></th>\n",
       "      <th>ID</th>\n",
       "      <th>Delivery_person_ID</th>\n",
       "      <th>Delivery_person_Age</th>\n",
       "      <th>Delivery_person_Ratings</th>\n",
       "      <th>Restaurant_latitude</th>\n",
       "      <th>Restaurant_longitude</th>\n",
       "      <th>Delivery_location_latitude</th>\n",
       "      <th>Delivery_location_longitude</th>\n",
       "      <th>Order_Date</th>\n",
       "      <th>Time_Orderd</th>\n",
       "      <th>Time_Order_picked</th>\n",
       "      <th>Weatherconditions</th>\n",
       "      <th>Road_traffic_density</th>\n",
       "      <th>Vehicle_condition</th>\n",
       "      <th>Type_of_order</th>\n",
       "      <th>Type_of_vehicle</th>\n",
       "      <th>multiple_deliveries</th>\n",
       "      <th>Festival</th>\n",
       "      <th>City</th>\n",
       "      <th>Time_taken(min)</th>\n",
       "    </tr>\n",
       "  </thead>\n",
       "  <tbody>\n",
       "    <tr>\n",
       "      <th>4038</th>\n",
       "      <td>0x9516</td>\n",
       "      <td>INDORES17DEL02</td>\n",
       "      <td>31</td>\n",
       "      <td>5</td>\n",
       "      <td>22.761226</td>\n",
       "      <td>75.887522</td>\n",
       "      <td>22.811226</td>\n",
       "      <td>75.937522</td>\n",
       "      <td>26-03-2022</td>\n",
       "      <td>20:10:00</td>\n",
       "      <td>20:20:00</td>\n",
       "      <td>conditions Sunny</td>\n",
       "      <td>Jam</td>\n",
       "      <td>2</td>\n",
       "      <td>Snack</td>\n",
       "      <td>electric_scooter</td>\n",
       "      <td>0</td>\n",
       "      <td>No</td>\n",
       "      <td>Urban</td>\n",
       "      <td>(min) 15</td>\n",
       "    </tr>\n",
       "  </tbody>\n",
       "</table>\n",
       "</div>"
      ],
      "text/plain": [
       "           ID Delivery_person_ID Delivery_person_Age Delivery_person_Ratings  \\\n",
       "4038  0x9516     INDORES17DEL02                   31                       5   \n",
       "\n",
       "      Restaurant_latitude  Restaurant_longitude  Delivery_location_latitude  \\\n",
       "4038            22.761226             75.887522                   22.811226   \n",
       "\n",
       "      Delivery_location_longitude  Order_Date Time_Orderd Time_Order_picked  \\\n",
       "4038                    75.937522  26-03-2022    20:10:00          20:20:00   \n",
       "\n",
       "     Weatherconditions Road_traffic_density  Vehicle_condition Type_of_order  \\\n",
       "4038  conditions Sunny                 Jam                   2        Snack    \n",
       "\n",
       "        Type_of_vehicle multiple_deliveries Festival    City Time_taken(min)  \n",
       "4038  electric_scooter                    0      No   Urban         (min) 15  "
      ]
     },
     "execution_count": 6,
     "metadata": {},
     "output_type": "execute_result"
    }
   ],
   "source": [
    "df1.sample(1)"
   ]
  },
  {
   "cell_type": "code",
   "execution_count": 7,
   "id": "4b71d828",
   "metadata": {},
   "outputs": [
    {
     "data": {
      "text/plain": [
       "ID                              object\n",
       "Delivery_person_ID              object\n",
       "Delivery_person_Age             object\n",
       "Delivery_person_Ratings         object\n",
       "Restaurant_latitude            float64\n",
       "Restaurant_longitude           float64\n",
       "Delivery_location_latitude     float64\n",
       "Delivery_location_longitude    float64\n",
       "Order_Date                      object\n",
       "Time_Orderd                     object\n",
       "Time_Order_picked               object\n",
       "Weatherconditions               object\n",
       "Road_traffic_density            object\n",
       "Vehicle_condition                int64\n",
       "Type_of_order                   object\n",
       "Type_of_vehicle                 object\n",
       "multiple_deliveries             object\n",
       "Festival                        object\n",
       "City                            object\n",
       "Time_taken(min)                 object\n",
       "dtype: object"
      ]
     },
     "execution_count": 7,
     "metadata": {},
     "output_type": "execute_result"
    }
   ],
   "source": [
    "df1.dtypes\n",
    "\n",
    "# 'Delivery_person_Age,Delivery_person_Ratings', Order_Date,Time_taken, multiple_deliveries,  #"
   ]
  },
  {
   "cell_type": "code",
   "execution_count": 8,
   "id": "2aa1f9b1",
   "metadata": {},
   "outputs": [
    {
     "data": {
      "text/plain": [
       "ID                             0\n",
       "Delivery_person_ID             0\n",
       "Delivery_person_Age            0\n",
       "Delivery_person_Ratings        0\n",
       "Restaurant_latitude            0\n",
       "Restaurant_longitude           0\n",
       "Delivery_location_latitude     0\n",
       "Delivery_location_longitude    0\n",
       "Order_Date                     0\n",
       "Time_Orderd                    0\n",
       "Time_Order_picked              0\n",
       "Weatherconditions              0\n",
       "Road_traffic_density           0\n",
       "Vehicle_condition              0\n",
       "Type_of_order                  0\n",
       "Type_of_vehicle                0\n",
       "multiple_deliveries            0\n",
       "Festival                       0\n",
       "City                           1\n",
       "Time_taken(min)                1\n",
       "dtype: int64"
      ]
     },
     "execution_count": 8,
     "metadata": {},
     "output_type": "execute_result"
    }
   ],
   "source": [
    "df1.isnull().sum()"
   ]
  },
  {
   "attachments": {},
   "cell_type": "markdown",
   "id": "019b90b4",
   "metadata": {},
   "source": [
    "## 1.3 Change Types"
   ]
  },
  {
   "cell_type": "code",
   "execution_count": 9,
   "id": "e9ba7761",
   "metadata": {},
   "outputs": [
    {
     "ename": "ValueError",
     "evalue": "invalid literal for int() with base 10: ''",
     "output_type": "error",
     "traceback": [
      "\u001b[1;31m---------------------------------------------------------------------------\u001b[0m",
      "\u001b[1;31mValueError\u001b[0m                                Traceback (most recent call last)",
      "Cell \u001b[1;32mIn[9], line 5\u001b[0m\n\u001b[0;32m      3\u001b[0m df1[\u001b[39m'\u001b[39m\u001b[39mDelivery_person_Age\u001b[39m\u001b[39m'\u001b[39m] \u001b[39m=\u001b[39m df1[\u001b[39m'\u001b[39m\u001b[39mDelivery_person_Age\u001b[39m\u001b[39m'\u001b[39m]\u001b[39m.\u001b[39mstr\u001b[39m.\u001b[39mstrip()\n\u001b[0;32m      4\u001b[0m df1[\u001b[39m'\u001b[39m\u001b[39mDelivery_person_Age\u001b[39m\u001b[39m'\u001b[39m] \u001b[39m=\u001b[39m df1[\u001b[39m'\u001b[39m\u001b[39mDelivery_person_Age\u001b[39m\u001b[39m'\u001b[39m]\u001b[39m.\u001b[39mreplace(\u001b[39m'\u001b[39m\u001b[39m[^\u001b[39m\u001b[39m\\\u001b[39m\u001b[39md]+\u001b[39m\u001b[39m'\u001b[39m, \u001b[39m'\u001b[39m\u001b[39m'\u001b[39m, regex\u001b[39m=\u001b[39m\u001b[39mTrue\u001b[39;00m)\n\u001b[1;32m----> 5\u001b[0m df1[\u001b[39m'\u001b[39m\u001b[39mDelivery_person_Age\u001b[39m\u001b[39m'\u001b[39m] \u001b[39m=\u001b[39m df1[\u001b[39m'\u001b[39;49m\u001b[39mDelivery_person_Age\u001b[39;49m\u001b[39m'\u001b[39;49m]\u001b[39m.\u001b[39;49mfillna(\u001b[39m0\u001b[39;49m)\u001b[39m.\u001b[39;49mastype(\u001b[39m'\u001b[39;49m\u001b[39mint64\u001b[39;49m\u001b[39m'\u001b[39;49m)\n",
      "File \u001b[1;32mc:\\Users\\rozen\\anaconda3\\lib\\site-packages\\pandas\\core\\generic.py:6240\u001b[0m, in \u001b[0;36mNDFrame.astype\u001b[1;34m(self, dtype, copy, errors)\u001b[0m\n\u001b[0;32m   6233\u001b[0m     results \u001b[39m=\u001b[39m [\n\u001b[0;32m   6234\u001b[0m         \u001b[39mself\u001b[39m\u001b[39m.\u001b[39miloc[:, i]\u001b[39m.\u001b[39mastype(dtype, copy\u001b[39m=\u001b[39mcopy)\n\u001b[0;32m   6235\u001b[0m         \u001b[39mfor\u001b[39;00m i \u001b[39min\u001b[39;00m \u001b[39mrange\u001b[39m(\u001b[39mlen\u001b[39m(\u001b[39mself\u001b[39m\u001b[39m.\u001b[39mcolumns))\n\u001b[0;32m   6236\u001b[0m     ]\n\u001b[0;32m   6238\u001b[0m \u001b[39melse\u001b[39;00m:\n\u001b[0;32m   6239\u001b[0m     \u001b[39m# else, only a single dtype is given\u001b[39;00m\n\u001b[1;32m-> 6240\u001b[0m     new_data \u001b[39m=\u001b[39m \u001b[39mself\u001b[39;49m\u001b[39m.\u001b[39;49m_mgr\u001b[39m.\u001b[39;49mastype(dtype\u001b[39m=\u001b[39;49mdtype, copy\u001b[39m=\u001b[39;49mcopy, errors\u001b[39m=\u001b[39;49merrors)\n\u001b[0;32m   6241\u001b[0m     \u001b[39mreturn\u001b[39;00m \u001b[39mself\u001b[39m\u001b[39m.\u001b[39m_constructor(new_data)\u001b[39m.\u001b[39m__finalize__(\u001b[39mself\u001b[39m, method\u001b[39m=\u001b[39m\u001b[39m\"\u001b[39m\u001b[39mastype\u001b[39m\u001b[39m\"\u001b[39m)\n\u001b[0;32m   6243\u001b[0m \u001b[39m# GH 33113: handle empty frame or series\u001b[39;00m\n",
      "File \u001b[1;32mc:\\Users\\rozen\\anaconda3\\lib\\site-packages\\pandas\\core\\internals\\managers.py:448\u001b[0m, in \u001b[0;36mBaseBlockManager.astype\u001b[1;34m(self, dtype, copy, errors)\u001b[0m\n\u001b[0;32m    447\u001b[0m \u001b[39mdef\u001b[39;00m \u001b[39mastype\u001b[39m(\u001b[39mself\u001b[39m: T, dtype, copy: \u001b[39mbool\u001b[39m \u001b[39m=\u001b[39m \u001b[39mFalse\u001b[39;00m, errors: \u001b[39mstr\u001b[39m \u001b[39m=\u001b[39m \u001b[39m\"\u001b[39m\u001b[39mraise\u001b[39m\u001b[39m\"\u001b[39m) \u001b[39m-\u001b[39m\u001b[39m>\u001b[39m T:\n\u001b[1;32m--> 448\u001b[0m     \u001b[39mreturn\u001b[39;00m \u001b[39mself\u001b[39;49m\u001b[39m.\u001b[39;49mapply(\u001b[39m\"\u001b[39;49m\u001b[39mastype\u001b[39;49m\u001b[39m\"\u001b[39;49m, dtype\u001b[39m=\u001b[39;49mdtype, copy\u001b[39m=\u001b[39;49mcopy, errors\u001b[39m=\u001b[39;49merrors)\n",
      "File \u001b[1;32mc:\\Users\\rozen\\anaconda3\\lib\\site-packages\\pandas\\core\\internals\\managers.py:352\u001b[0m, in \u001b[0;36mBaseBlockManager.apply\u001b[1;34m(self, f, align_keys, ignore_failures, **kwargs)\u001b[0m\n\u001b[0;32m    350\u001b[0m         applied \u001b[39m=\u001b[39m b\u001b[39m.\u001b[39mapply(f, \u001b[39m*\u001b[39m\u001b[39m*\u001b[39mkwargs)\n\u001b[0;32m    351\u001b[0m     \u001b[39melse\u001b[39;00m:\n\u001b[1;32m--> 352\u001b[0m         applied \u001b[39m=\u001b[39m \u001b[39mgetattr\u001b[39m(b, f)(\u001b[39m*\u001b[39m\u001b[39m*\u001b[39mkwargs)\n\u001b[0;32m    353\u001b[0m \u001b[39mexcept\u001b[39;00m (\u001b[39mTypeError\u001b[39;00m, \u001b[39mNotImplementedError\u001b[39;00m):\n\u001b[0;32m    354\u001b[0m     \u001b[39mif\u001b[39;00m \u001b[39mnot\u001b[39;00m ignore_failures:\n",
      "File \u001b[1;32mc:\\Users\\rozen\\anaconda3\\lib\\site-packages\\pandas\\core\\internals\\blocks.py:526\u001b[0m, in \u001b[0;36mBlock.astype\u001b[1;34m(self, dtype, copy, errors)\u001b[0m\n\u001b[0;32m    508\u001b[0m \u001b[39m\"\"\"\u001b[39;00m\n\u001b[0;32m    509\u001b[0m \u001b[39mCoerce to the new dtype.\u001b[39;00m\n\u001b[0;32m    510\u001b[0m \n\u001b[1;32m   (...)\u001b[0m\n\u001b[0;32m    522\u001b[0m \u001b[39mBlock\u001b[39;00m\n\u001b[0;32m    523\u001b[0m \u001b[39m\"\"\"\u001b[39;00m\n\u001b[0;32m    524\u001b[0m values \u001b[39m=\u001b[39m \u001b[39mself\u001b[39m\u001b[39m.\u001b[39mvalues\n\u001b[1;32m--> 526\u001b[0m new_values \u001b[39m=\u001b[39m astype_array_safe(values, dtype, copy\u001b[39m=\u001b[39;49mcopy, errors\u001b[39m=\u001b[39;49merrors)\n\u001b[0;32m    528\u001b[0m new_values \u001b[39m=\u001b[39m maybe_coerce_values(new_values)\n\u001b[0;32m    529\u001b[0m newb \u001b[39m=\u001b[39m \u001b[39mself\u001b[39m\u001b[39m.\u001b[39mmake_block(new_values)\n",
      "File \u001b[1;32mc:\\Users\\rozen\\anaconda3\\lib\\site-packages\\pandas\\core\\dtypes\\astype.py:299\u001b[0m, in \u001b[0;36mastype_array_safe\u001b[1;34m(values, dtype, copy, errors)\u001b[0m\n\u001b[0;32m    296\u001b[0m     \u001b[39mreturn\u001b[39;00m values\u001b[39m.\u001b[39mcopy()\n\u001b[0;32m    298\u001b[0m \u001b[39mtry\u001b[39;00m:\n\u001b[1;32m--> 299\u001b[0m     new_values \u001b[39m=\u001b[39m astype_array(values, dtype, copy\u001b[39m=\u001b[39;49mcopy)\n\u001b[0;32m    300\u001b[0m \u001b[39mexcept\u001b[39;00m (\u001b[39mValueError\u001b[39;00m, \u001b[39mTypeError\u001b[39;00m):\n\u001b[0;32m    301\u001b[0m     \u001b[39m# e.g. astype_nansafe can fail on object-dtype of strings\u001b[39;00m\n\u001b[0;32m    302\u001b[0m     \u001b[39m#  trying to convert to float\u001b[39;00m\n\u001b[0;32m    303\u001b[0m     \u001b[39mif\u001b[39;00m errors \u001b[39m==\u001b[39m \u001b[39m\"\u001b[39m\u001b[39mignore\u001b[39m\u001b[39m\"\u001b[39m:\n",
      "File \u001b[1;32mc:\\Users\\rozen\\anaconda3\\lib\\site-packages\\pandas\\core\\dtypes\\astype.py:230\u001b[0m, in \u001b[0;36mastype_array\u001b[1;34m(values, dtype, copy)\u001b[0m\n\u001b[0;32m    227\u001b[0m     values \u001b[39m=\u001b[39m values\u001b[39m.\u001b[39mastype(dtype, copy\u001b[39m=\u001b[39mcopy)\n\u001b[0;32m    229\u001b[0m \u001b[39melse\u001b[39;00m:\n\u001b[1;32m--> 230\u001b[0m     values \u001b[39m=\u001b[39m astype_nansafe(values, dtype, copy\u001b[39m=\u001b[39;49mcopy)\n\u001b[0;32m    232\u001b[0m \u001b[39m# in pandas we don't store numpy str dtypes, so convert to object\u001b[39;00m\n\u001b[0;32m    233\u001b[0m \u001b[39mif\u001b[39;00m \u001b[39misinstance\u001b[39m(dtype, np\u001b[39m.\u001b[39mdtype) \u001b[39mand\u001b[39;00m \u001b[39missubclass\u001b[39m(values\u001b[39m.\u001b[39mdtype\u001b[39m.\u001b[39mtype, \u001b[39mstr\u001b[39m):\n",
      "File \u001b[1;32mc:\\Users\\rozen\\anaconda3\\lib\\site-packages\\pandas\\core\\dtypes\\astype.py:170\u001b[0m, in \u001b[0;36mastype_nansafe\u001b[1;34m(arr, dtype, copy, skipna)\u001b[0m\n\u001b[0;32m    166\u001b[0m     \u001b[39mraise\u001b[39;00m \u001b[39mValueError\u001b[39;00m(msg)\n\u001b[0;32m    168\u001b[0m \u001b[39mif\u001b[39;00m copy \u001b[39mor\u001b[39;00m is_object_dtype(arr\u001b[39m.\u001b[39mdtype) \u001b[39mor\u001b[39;00m is_object_dtype(dtype):\n\u001b[0;32m    169\u001b[0m     \u001b[39m# Explicit copy, or required since NumPy can't view from / to object.\u001b[39;00m\n\u001b[1;32m--> 170\u001b[0m     \u001b[39mreturn\u001b[39;00m arr\u001b[39m.\u001b[39;49mastype(dtype, copy\u001b[39m=\u001b[39;49m\u001b[39mTrue\u001b[39;49;00m)\n\u001b[0;32m    172\u001b[0m \u001b[39mreturn\u001b[39;00m arr\u001b[39m.\u001b[39mastype(dtype, copy\u001b[39m=\u001b[39mcopy)\n",
      "\u001b[1;31mValueError\u001b[0m: invalid literal for int() with base 10: ''"
     ]
    }
   ],
   "source": [
    "# Delivery_person_Age\n",
    "df1['Delivery_person_Age'] = df1['Delivery_person_Age'].replace('NaN', 0)\n",
    "df1['Delivery_person_Age'] = df1['Delivery_person_Age'].str.strip()\n",
    "df1['Delivery_person_Age'] = df1['Delivery_person_Age'].replace('[^\\d]+', '', regex=True)\n",
    "df1['Delivery_person_Age'] = df1['Delivery_person_Age'].fillna(0).astype('int64')\n",
    "\n"
   ]
  },
  {
   "cell_type": "code",
   "execution_count": null,
   "id": "e6cf199a",
   "metadata": {},
   "outputs": [],
   "source": [
    "# Delivery_person_Age\n",
    "df1['Delivery_person_Ratings'] = df1['Delivery_person_Ratings'].astype('float64')\n",
    "\n",
    "# Delivery_person_Age\n",
    "df1['Delivery_person_Ratings'] = df1['Delivery_person_Ratings'].astype('float64')\n",
    "\n",
    "# Order_Date\n",
    "\n",
    "df1['Order_Date'] = pd.to_datetime(df1['Order_Date'], errors='coerce')\n",
    "df1['Order_Date'] = df1['Order_Date'].dt.time\n",
    "\n",
    "# # Time_taken \n",
    "# df1['Time_taken'] = pd.to_datetime(df1['Time_taken'], format='%H:%M:%S').dt.time\n",
    "\n",
    "# multiple_deliveries\n",
    "\n",
    "df1['multiple_deliveries'] = df1['multiple_deliveries'].astype('float64')"
   ]
  },
  {
   "cell_type": "code",
   "execution_count": null,
   "id": "e6302140",
   "metadata": {},
   "outputs": [
    {
     "data": {
      "text/html": [
       "<div>\n",
       "<style scoped>\n",
       "    .dataframe tbody tr th:only-of-type {\n",
       "        vertical-align: middle;\n",
       "    }\n",
       "\n",
       "    .dataframe tbody tr th {\n",
       "        vertical-align: top;\n",
       "    }\n",
       "\n",
       "    .dataframe thead th {\n",
       "        text-align: right;\n",
       "    }\n",
       "</style>\n",
       "<table border=\"1\" class=\"dataframe\">\n",
       "  <thead>\n",
       "    <tr style=\"text-align: right;\">\n",
       "      <th></th>\n",
       "      <th>ID</th>\n",
       "      <th>Delivery_person_ID</th>\n",
       "      <th>Delivery_person_Age</th>\n",
       "      <th>Delivery_person_Ratings</th>\n",
       "      <th>Restaurant_latitude</th>\n",
       "      <th>Restaurant_longitude</th>\n",
       "      <th>Delivery_location_latitude</th>\n",
       "      <th>Delivery_location_longitude</th>\n",
       "      <th>Order_Date</th>\n",
       "      <th>Time_Orderd</th>\n",
       "      <th>Time_Order_picked</th>\n",
       "      <th>Weatherconditions</th>\n",
       "      <th>Road_traffic_density</th>\n",
       "      <th>Vehicle_condition</th>\n",
       "      <th>Type_of_order</th>\n",
       "      <th>Type_of_vehicle</th>\n",
       "      <th>multiple_deliveries</th>\n",
       "      <th>Festival</th>\n",
       "      <th>City</th>\n",
       "      <th>Time_taken(min)</th>\n",
       "    </tr>\n",
       "  </thead>\n",
       "  <tbody>\n",
       "    <tr>\n",
       "      <th>1178</th>\n",
       "      <td>0xc6bb</td>\n",
       "      <td>LUDHRES18DEL03</td>\n",
       "      <td>34</td>\n",
       "      <td>5.0</td>\n",
       "      <td>30.890184</td>\n",
       "      <td>75.829615</td>\n",
       "      <td>30.920184</td>\n",
       "      <td>75.859615</td>\n",
       "      <td>NaT</td>\n",
       "      <td>23:55:00</td>\n",
       "      <td>00:00:00</td>\n",
       "      <td>conditions Stormy</td>\n",
       "      <td>Low</td>\n",
       "      <td>1</td>\n",
       "      <td>Meal</td>\n",
       "      <td>scooter</td>\n",
       "      <td>1.0</td>\n",
       "      <td>No</td>\n",
       "      <td>Metropolitian</td>\n",
       "      <td>(min) 20</td>\n",
       "    </tr>\n",
       "    <tr>\n",
       "      <th>779</th>\n",
       "      <td>0xd5a6</td>\n",
       "      <td>DEHRES12DEL03</td>\n",
       "      <td>28</td>\n",
       "      <td>4.6</td>\n",
       "      <td>0.000000</td>\n",
       "      <td>0.000000</td>\n",
       "      <td>0.030000</td>\n",
       "      <td>0.030000</td>\n",
       "      <td>NaT</td>\n",
       "      <td>17:20:00</td>\n",
       "      <td>17:35:00</td>\n",
       "      <td>conditions Cloudy</td>\n",
       "      <td>Medium</td>\n",
       "      <td>2</td>\n",
       "      <td>Snack</td>\n",
       "      <td>scooter</td>\n",
       "      <td>1.0</td>\n",
       "      <td>No</td>\n",
       "      <td>Metropolitian</td>\n",
       "      <td>(min) 17</td>\n",
       "    </tr>\n",
       "    <tr>\n",
       "      <th>3885</th>\n",
       "      <td>0x8ba5</td>\n",
       "      <td>BANGRES05DEL02</td>\n",
       "      <td>27</td>\n",
       "      <td>5.0</td>\n",
       "      <td>12.970324</td>\n",
       "      <td>77.645748</td>\n",
       "      <td>13.050324</td>\n",
       "      <td>77.725748</td>\n",
       "      <td>NaT</td>\n",
       "      <td>19:50:00</td>\n",
       "      <td>20:05:00</td>\n",
       "      <td>conditions Windy</td>\n",
       "      <td>Jam</td>\n",
       "      <td>0</td>\n",
       "      <td>Buffet</td>\n",
       "      <td>motorcycle</td>\n",
       "      <td>1.0</td>\n",
       "      <td>No</td>\n",
       "      <td>Metropolitian</td>\n",
       "      <td>(min) 26</td>\n",
       "    </tr>\n",
       "    <tr>\n",
       "      <th>3657</th>\n",
       "      <td>0x8915</td>\n",
       "      <td>CHENRES17DEL02</td>\n",
       "      <td>23</td>\n",
       "      <td>4.7</td>\n",
       "      <td>13.045479</td>\n",
       "      <td>80.233110</td>\n",
       "      <td>13.125479</td>\n",
       "      <td>80.313110</td>\n",
       "      <td>NaT</td>\n",
       "      <td>20:35:00</td>\n",
       "      <td>20:50:00</td>\n",
       "      <td>conditions Windy</td>\n",
       "      <td>Jam</td>\n",
       "      <td>1</td>\n",
       "      <td>Snack</td>\n",
       "      <td>motorcycle</td>\n",
       "      <td>1.0</td>\n",
       "      <td>No</td>\n",
       "      <td>Metropolitian</td>\n",
       "      <td>(min) 22</td>\n",
       "    </tr>\n",
       "    <tr>\n",
       "      <th>4252</th>\n",
       "      <td>0xcb48</td>\n",
       "      <td>ALHRES04DEL01</td>\n",
       "      <td>26</td>\n",
       "      <td>4.4</td>\n",
       "      <td>0.000000</td>\n",
       "      <td>0.000000</td>\n",
       "      <td>0.110000</td>\n",
       "      <td>0.110000</td>\n",
       "      <td>NaT</td>\n",
       "      <td>21:40:00</td>\n",
       "      <td>21:55:00</td>\n",
       "      <td>conditions Cloudy</td>\n",
       "      <td>Jam</td>\n",
       "      <td>2</td>\n",
       "      <td>Snack</td>\n",
       "      <td>electric_scooter</td>\n",
       "      <td>1.0</td>\n",
       "      <td>No</td>\n",
       "      <td>Metropolitian</td>\n",
       "      <td>(min) 31</td>\n",
       "    </tr>\n",
       "  </tbody>\n",
       "</table>\n",
       "</div>"
      ],
      "text/plain": [
       "           ID Delivery_person_ID Delivery_person_Age  Delivery_person_Ratings  \\\n",
       "1178  0xc6bb     LUDHRES18DEL03                   34                      5.0   \n",
       "779   0xd5a6      DEHRES12DEL03                   28                      4.6   \n",
       "3885  0x8ba5     BANGRES05DEL02                   27                      5.0   \n",
       "3657  0x8915     CHENRES17DEL02                   23                      4.7   \n",
       "4252  0xcb48      ALHRES04DEL01                   26                      4.4   \n",
       "\n",
       "      Restaurant_latitude  Restaurant_longitude  Delivery_location_latitude  \\\n",
       "1178            30.890184             75.829615                   30.920184   \n",
       "779              0.000000              0.000000                    0.030000   \n",
       "3885            12.970324             77.645748                   13.050324   \n",
       "3657            13.045479             80.233110                   13.125479   \n",
       "4252             0.000000              0.000000                    0.110000   \n",
       "\n",
       "      Delivery_location_longitude Order_Date Time_Orderd Time_Order_picked  \\\n",
       "1178                    75.859615        NaT    23:55:00          00:00:00   \n",
       "779                      0.030000        NaT    17:20:00          17:35:00   \n",
       "3885                    77.725748        NaT    19:50:00          20:05:00   \n",
       "3657                    80.313110        NaT    20:35:00          20:50:00   \n",
       "4252                     0.110000        NaT    21:40:00          21:55:00   \n",
       "\n",
       "      Weatherconditions Road_traffic_density  Vehicle_condition Type_of_order  \\\n",
       "1178  conditions Stormy                 Low                   1         Meal    \n",
       "779   conditions Cloudy              Medium                   2        Snack    \n",
       "3885   conditions Windy                 Jam                   0       Buffet    \n",
       "3657   conditions Windy                 Jam                   1        Snack    \n",
       "4252  conditions Cloudy                 Jam                   2        Snack    \n",
       "\n",
       "        Type_of_vehicle  multiple_deliveries Festival            City  \\\n",
       "1178           scooter                   1.0      No   Metropolitian    \n",
       "779            scooter                   1.0      No   Metropolitian    \n",
       "3885        motorcycle                   1.0      No   Metropolitian    \n",
       "3657        motorcycle                   1.0      No   Metropolitian    \n",
       "4252  electric_scooter                   1.0      No   Metropolitian    \n",
       "\n",
       "     Time_taken(min)  \n",
       "1178        (min) 20  \n",
       "779         (min) 17  \n",
       "3885        (min) 26  \n",
       "3657        (min) 22  \n",
       "4252        (min) 31  "
      ]
     },
     "execution_count": 23,
     "metadata": {},
     "output_type": "execute_result"
    }
   ],
   "source": [
    "df1.sample(5)"
   ]
  },
  {
   "cell_type": "code",
   "execution_count": null,
   "id": "bfd7307a",
   "metadata": {},
   "outputs": [
    {
     "data": {
      "text/plain": [
       "ID                                     object\n",
       "Delivery_person_ID                     object\n",
       "Delivery_person_Age                    object\n",
       "Delivery_person_Ratings               float64\n",
       "Restaurant_latitude                   float64\n",
       "Restaurant_longitude                  float64\n",
       "Delivery_location_latitude            float64\n",
       "Delivery_location_longitude           float64\n",
       "Order_Date                     datetime64[ns]\n",
       "Time_Orderd                            object\n",
       "Time_Order_picked                      object\n",
       "Weatherconditions                      object\n",
       "Road_traffic_density                   object\n",
       "Vehicle_condition                       int64\n",
       "Type_of_order                          object\n",
       "Type_of_vehicle                        object\n",
       "multiple_deliveries                   float64\n",
       "Festival                               object\n",
       "City                                   object\n",
       "Time_taken(min)                        object\n",
       "dtype: object"
      ]
     },
     "execution_count": 24,
     "metadata": {},
     "output_type": "execute_result"
    }
   ],
   "source": [
    "df1.dtypes"
   ]
  },
  {
   "attachments": {},
   "cell_type": "markdown",
   "id": "166ba99e",
   "metadata": {},
   "source": [
    "## 1.4 Descriptive Statistical"
   ]
  },
  {
   "cell_type": "code",
   "execution_count": null,
   "id": "83502772",
   "metadata": {},
   "outputs": [],
   "source": [
    "num_attributes = df1.select_dtypes('int64','float64')\n",
    "cat_atribbutes = df1.select_dtypes('object','datetime64[ns]')"
   ]
  },
  {
   "cell_type": "code",
   "execution_count": null,
   "id": "32e89134",
   "metadata": {},
   "outputs": [
    {
     "data": {
      "text/html": [
       "<div>\n",
       "<style scoped>\n",
       "    .dataframe tbody tr th:only-of-type {\n",
       "        vertical-align: middle;\n",
       "    }\n",
       "\n",
       "    .dataframe tbody tr th {\n",
       "        vertical-align: top;\n",
       "    }\n",
       "\n",
       "    .dataframe thead th {\n",
       "        text-align: right;\n",
       "    }\n",
       "</style>\n",
       "<table border=\"1\" class=\"dataframe\">\n",
       "  <thead>\n",
       "    <tr style=\"text-align: right;\">\n",
       "      <th></th>\n",
       "      <th>index</th>\n",
       "      <th>attributes</th>\n",
       "      <th>min</th>\n",
       "      <th>max</th>\n",
       "      <th>range</th>\n",
       "      <th>mean</th>\n",
       "      <th>median</th>\n",
       "      <th>std</th>\n",
       "      <th>skew</th>\n",
       "      <th>kurtosis</th>\n",
       "    </tr>\n",
       "  </thead>\n",
       "  <tbody>\n",
       "    <tr>\n",
       "      <th>0</th>\n",
       "      <td>0</td>\n",
       "      <td>Vehicle_condition</td>\n",
       "      <td>0.0</td>\n",
       "      <td>3.0</td>\n",
       "      <td>3.0</td>\n",
       "      <td>1.022386</td>\n",
       "      <td>1.0</td>\n",
       "      <td>0.840246</td>\n",
       "      <td>0.077819</td>\n",
       "      <td>-1.309626</td>\n",
       "    </tr>\n",
       "  </tbody>\n",
       "</table>\n",
       "</div>"
      ],
      "text/plain": [
       "   index         attributes  min  max  range      mean  median       std  \\\n",
       "0      0  Vehicle_condition  0.0  3.0    3.0  1.022386     1.0  0.840246   \n",
       "\n",
       "       skew  kurtosis  \n",
       "0  0.077819 -1.309626  "
      ]
     },
     "execution_count": 26,
     "metadata": {},
     "output_type": "execute_result"
    }
   ],
   "source": [
    "# Central Tendency - Mean and Median\n",
    "ct1 = pd.DataFrame(num_attributes.apply(np.mean)).T\n",
    "ct2 = pd.DataFrame(num_attributes.apply(np.median)).T\n",
    "\n",
    "# Dispersion - Std, Min, Max, Range, Skew, Kurtosis\n",
    "d1 = pd.DataFrame( num_attributes.apply( np.std)).T\n",
    "d2 = pd.DataFrame( num_attributes.apply( min)).T\n",
    "d3 = pd.DataFrame( num_attributes.apply( max)).T\n",
    "d4 = pd.DataFrame( num_attributes.apply( lambda x: x.max() - x.min())).T\n",
    "d5 = pd.DataFrame( num_attributes.apply( lambda x: x.skew())).T\n",
    "d6 = pd.DataFrame( num_attributes.apply( lambda x: x.kurtosis())).T\n",
    "\n",
    "# concatenate\n",
    "m = pd.concat( [d2,d3,d4,ct1,ct2,d1,d5,d6]).T.reset_index()\n",
    "m.columns = ['attributes','min','max','range','mean','median','std','skew','kurtosis']\n",
    "\n",
    "m.reset_index()"
   ]
  },
  {
   "attachments": {},
   "cell_type": "markdown",
   "id": "2e2afbe6",
   "metadata": {},
   "source": [
    "# 2 PERGUNTAS DE NEGOCIO"
   ]
  },
  {
   "cell_type": "code",
   "execution_count": 44,
   "id": "871612c4",
   "metadata": {},
   "outputs": [
    {
     "data": {
      "text/plain": [
       "ID                             4467\n",
       "Delivery_person_ID             1141\n",
       "Delivery_person_Age              23\n",
       "Delivery_person_Ratings          25\n",
       "Restaurant_latitude             426\n",
       "Restaurant_longitude            401\n",
       "Delivery_location_latitude     2450\n",
       "Delivery_location_longitude    2450\n",
       "Order_Date                       44\n",
       "Time_Orderd                     177\n",
       "Time_Order_picked               193\n",
       "Weatherconditions                 7\n",
       "Road_traffic_density              5\n",
       "Vehicle_condition                 4\n",
       "Type_of_order                     4\n",
       "Type_of_vehicle                   4\n",
       "multiple_deliveries               5\n",
       "Festival                          4\n",
       "City                              4\n",
       "Time_taken(min)                  45\n",
       "dtype: int64"
      ]
     },
     "execution_count": 44,
     "metadata": {},
     "output_type": "execute_result"
    }
   ],
   "source": [
    "df1.nunique()"
   ]
  },
  {
   "attachments": {},
   "cell_type": "markdown",
   "id": "00f6ae75",
   "metadata": {},
   "source": [
    "## 1. A quantidade de entregadores únicos.\n"
   ]
  },
  {
   "cell_type": "code",
   "execution_count": 55,
   "id": "5c28e541",
   "metadata": {},
   "outputs": [
    {
     "name": "stdout",
     "output_type": "stream",
     "text": [
      "1141\n"
     ]
    }
   ],
   "source": [
    "delivery_unique = len ( df.loc[:, 'Delivery_person_ID'].unique() )\n",
    "\n",
    "print(delivery_unique)\n"
   ]
  },
  {
   "cell_type": "markdown",
   "id": "16724531",
   "metadata": {},
   "source": [
    "## 2. A distância média dos resturantes e dos locais de entrega."
   ]
  },
  {
   "cell_type": "code",
   "execution_count": 59,
   "id": "c35e222c",
   "metadata": {},
   "outputs": [
    {
     "data": {
      "text/plain": [
       "ID                              object\n",
       "Delivery_person_ID              object\n",
       "Delivery_person_Age             object\n",
       "Delivery_person_Ratings         object\n",
       "Restaurant_latitude            float64\n",
       "Restaurant_longitude           float64\n",
       "Delivery_location_latitude     float64\n",
       "Delivery_location_longitude    float64\n",
       "Order_Date                      object\n",
       "Time_Orderd                     object\n",
       "Time_Order_picked               object\n",
       "Weatherconditions               object\n",
       "Road_traffic_density            object\n",
       "Vehicle_condition                int64\n",
       "Type_of_order                   object\n",
       "Type_of_vehicle                 object\n",
       "multiple_deliveries             object\n",
       "Festival                        object\n",
       "City                            object\n",
       "Time_taken(min)                 object\n",
       "dtype: object"
      ]
     },
     "execution_count": 59,
     "metadata": {},
     "output_type": "execute_result"
    }
   ],
   "source": [
    "df1.dtypes"
   ]
  },
  {
   "cell_type": "code",
   "execution_count": 74,
   "id": "1052efdf",
   "metadata": {},
   "outputs": [
    {
     "ename": "TypeError",
     "evalue": "'module' object is not callable",
     "output_type": "error",
     "traceback": [
      "\u001b[1;31m---------------------------------------------------------------------------\u001b[0m",
      "\u001b[1;31mTypeError\u001b[0m                                 Traceback (most recent call last)",
      "Cell \u001b[1;32mIn[74], line 3\u001b[0m\n\u001b[0;32m      1\u001b[0m cols \u001b[39m=\u001b[39m [\u001b[39m'\u001b[39m\u001b[39mRestaurant_latitude\u001b[39m\u001b[39m'\u001b[39m,\u001b[39m'\u001b[39m\u001b[39mRestaurant_longitude\u001b[39m\u001b[39m'\u001b[39m,\u001b[39m'\u001b[39m\u001b[39mDelivery_location_latitude\u001b[39m\u001b[39m'\u001b[39m,\u001b[39m'\u001b[39m\u001b[39mDelivery_location_longitude\u001b[39m\u001b[39m'\u001b[39m]\n\u001b[1;32m----> 3\u001b[0m df_aux \u001b[39m=\u001b[39m df1\u001b[39m.\u001b[39;49mloc[:, cols]\u001b[39m.\u001b[39;49mapply(\u001b[39mlambda\u001b[39;49;00m x: haversine(x[\u001b[39m'\u001b[39;49m\u001b[39mRestaurant_latitude\u001b[39;49m\u001b[39m'\u001b[39;49m], x[\u001b[39m'\u001b[39;49m\u001b[39mRestaurant_longitude\u001b[39;49m\u001b[39m'\u001b[39;49m]), axis\u001b[39m=\u001b[39;49m\u001b[39m1\u001b[39;49m)\n",
      "File \u001b[1;32mc:\\Users\\rozen\\anaconda3\\lib\\site-packages\\pandas\\core\\frame.py:9568\u001b[0m, in \u001b[0;36mDataFrame.apply\u001b[1;34m(self, func, axis, raw, result_type, args, **kwargs)\u001b[0m\n\u001b[0;32m   9557\u001b[0m \u001b[39mfrom\u001b[39;00m \u001b[39mpandas\u001b[39;00m\u001b[39m.\u001b[39;00m\u001b[39mcore\u001b[39;00m\u001b[39m.\u001b[39;00m\u001b[39mapply\u001b[39;00m \u001b[39mimport\u001b[39;00m frame_apply\n\u001b[0;32m   9559\u001b[0m op \u001b[39m=\u001b[39m frame_apply(\n\u001b[0;32m   9560\u001b[0m     \u001b[39mself\u001b[39m,\n\u001b[0;32m   9561\u001b[0m     func\u001b[39m=\u001b[39mfunc,\n\u001b[1;32m   (...)\u001b[0m\n\u001b[0;32m   9566\u001b[0m     kwargs\u001b[39m=\u001b[39mkwargs,\n\u001b[0;32m   9567\u001b[0m )\n\u001b[1;32m-> 9568\u001b[0m \u001b[39mreturn\u001b[39;00m op\u001b[39m.\u001b[39;49mapply()\u001b[39m.\u001b[39m__finalize__(\u001b[39mself\u001b[39m, method\u001b[39m=\u001b[39m\u001b[39m\"\u001b[39m\u001b[39mapply\u001b[39m\u001b[39m\"\u001b[39m)\n",
      "File \u001b[1;32mc:\\Users\\rozen\\anaconda3\\lib\\site-packages\\pandas\\core\\apply.py:764\u001b[0m, in \u001b[0;36mFrameApply.apply\u001b[1;34m(self)\u001b[0m\n\u001b[0;32m    761\u001b[0m \u001b[39melif\u001b[39;00m \u001b[39mself\u001b[39m\u001b[39m.\u001b[39mraw:\n\u001b[0;32m    762\u001b[0m     \u001b[39mreturn\u001b[39;00m \u001b[39mself\u001b[39m\u001b[39m.\u001b[39mapply_raw()\n\u001b[1;32m--> 764\u001b[0m \u001b[39mreturn\u001b[39;00m \u001b[39mself\u001b[39;49m\u001b[39m.\u001b[39;49mapply_standard()\n",
      "File \u001b[1;32mc:\\Users\\rozen\\anaconda3\\lib\\site-packages\\pandas\\core\\apply.py:891\u001b[0m, in \u001b[0;36mFrameApply.apply_standard\u001b[1;34m(self)\u001b[0m\n\u001b[0;32m    890\u001b[0m \u001b[39mdef\u001b[39;00m \u001b[39mapply_standard\u001b[39m(\u001b[39mself\u001b[39m):\n\u001b[1;32m--> 891\u001b[0m     results, res_index \u001b[39m=\u001b[39m \u001b[39mself\u001b[39;49m\u001b[39m.\u001b[39;49mapply_series_generator()\n\u001b[0;32m    893\u001b[0m     \u001b[39m# wrap results\u001b[39;00m\n\u001b[0;32m    894\u001b[0m     \u001b[39mreturn\u001b[39;00m \u001b[39mself\u001b[39m\u001b[39m.\u001b[39mwrap_results(results, res_index)\n",
      "File \u001b[1;32mc:\\Users\\rozen\\anaconda3\\lib\\site-packages\\pandas\\core\\apply.py:907\u001b[0m, in \u001b[0;36mFrameApply.apply_series_generator\u001b[1;34m(self)\u001b[0m\n\u001b[0;32m    904\u001b[0m \u001b[39mwith\u001b[39;00m option_context(\u001b[39m\"\u001b[39m\u001b[39mmode.chained_assignment\u001b[39m\u001b[39m\"\u001b[39m, \u001b[39mNone\u001b[39;00m):\n\u001b[0;32m    905\u001b[0m     \u001b[39mfor\u001b[39;00m i, v \u001b[39min\u001b[39;00m \u001b[39menumerate\u001b[39m(series_gen):\n\u001b[0;32m    906\u001b[0m         \u001b[39m# ignore SettingWithCopy here in case the user mutates\u001b[39;00m\n\u001b[1;32m--> 907\u001b[0m         results[i] \u001b[39m=\u001b[39m \u001b[39mself\u001b[39;49m\u001b[39m.\u001b[39;49mf(v)\n\u001b[0;32m    908\u001b[0m         \u001b[39mif\u001b[39;00m \u001b[39misinstance\u001b[39m(results[i], ABCSeries):\n\u001b[0;32m    909\u001b[0m             \u001b[39m# If we have a view on v, we need to make a copy because\u001b[39;00m\n\u001b[0;32m    910\u001b[0m             \u001b[39m#  series_generator will swap out the underlying data\u001b[39;00m\n\u001b[0;32m    911\u001b[0m             results[i] \u001b[39m=\u001b[39m results[i]\u001b[39m.\u001b[39mcopy(deep\u001b[39m=\u001b[39m\u001b[39mFalse\u001b[39;00m)\n",
      "Cell \u001b[1;32mIn[74], line 3\u001b[0m, in \u001b[0;36m<lambda>\u001b[1;34m(x)\u001b[0m\n\u001b[0;32m      1\u001b[0m cols \u001b[39m=\u001b[39m [\u001b[39m'\u001b[39m\u001b[39mRestaurant_latitude\u001b[39m\u001b[39m'\u001b[39m,\u001b[39m'\u001b[39m\u001b[39mRestaurant_longitude\u001b[39m\u001b[39m'\u001b[39m,\u001b[39m'\u001b[39m\u001b[39mDelivery_location_latitude\u001b[39m\u001b[39m'\u001b[39m,\u001b[39m'\u001b[39m\u001b[39mDelivery_location_longitude\u001b[39m\u001b[39m'\u001b[39m]\n\u001b[1;32m----> 3\u001b[0m df_aux \u001b[39m=\u001b[39m df1\u001b[39m.\u001b[39mloc[:, cols]\u001b[39m.\u001b[39mapply(\u001b[39mlambda\u001b[39;00m x: haversine(x[\u001b[39m'\u001b[39;49m\u001b[39mRestaurant_latitude\u001b[39;49m\u001b[39m'\u001b[39;49m], x[\u001b[39m'\u001b[39;49m\u001b[39mRestaurant_longitude\u001b[39;49m\u001b[39m'\u001b[39;49m]), axis\u001b[39m=\u001b[39m\u001b[39m1\u001b[39m)\n",
      "\u001b[1;31mTypeError\u001b[0m: 'module' object is not callable"
     ]
    }
   ],
   "source": [
    "\n",
    "cols = ['Restaurant_latitude','Restaurant_longitude','Delivery_location_latitude','Delivery_location_longitude']\n",
    "\n",
    "df_aux = df1.loc[:, cols].apply(lambda x: haversine(x['Restaurant_latitude'], x['Restaurant_longitude']), axis=1)"
   ]
  },
  {
   "cell_type": "code",
   "execution_count": 72,
   "id": "3a1738da",
   "metadata": {},
   "outputs": [
    {
     "data": {
      "text/plain": [
       "Restaurant_latitude            <module 'haversine' from 'c:\\\\Users\\\\rozen\\\\an...\n",
       "Restaurant_latitude            <module 'haversine' from 'c:\\\\Users\\\\rozen\\\\an...\n",
       "Delivery_location_latitude     <module 'haversine' from 'c:\\\\Users\\\\rozen\\\\an...\n",
       "Delivery_location_longitude    <module 'haversine' from 'c:\\\\Users\\\\rozen\\\\an...\n",
       "dtype: object"
      ]
     },
     "execution_count": 72,
     "metadata": {},
     "output_type": "execute_result"
    }
   ],
   "source": [
    "df_aux"
   ]
  },
  {
   "cell_type": "code",
   "execution_count": null,
   "id": "cdf464ac",
   "metadata": {},
   "outputs": [],
   "source": []
  }
 ],
 "metadata": {
  "kernelspec": {
   "display_name": "Python 3",
   "language": "python",
   "name": "python3"
  },
  "language_info": {
   "codemirror_mode": {
    "name": "ipython",
    "version": 3
   },
   "file_extension": ".py",
   "mimetype": "text/x-python",
   "name": "python",
   "nbconvert_exporter": "python",
   "pygments_lexer": "ipython3",
   "version": "3.8.8"
  }
 },
 "nbformat": 4,
 "nbformat_minor": 5
}
